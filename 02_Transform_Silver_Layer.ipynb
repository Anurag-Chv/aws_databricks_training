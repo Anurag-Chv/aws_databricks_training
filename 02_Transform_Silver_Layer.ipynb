{
 "cells": [
  {
   "cell_type": "markdown",
   "id": "bbe58927",
   "metadata": {
    "lines_to_next_cell": 0
   },
   "source": [
    "### **Notebook 2: Creating the Silver Layer**\n",
    "\n",
    "#### Steps:\n",
    "1. Read Bronze Delta table.\n",
    "2. Clean and transform the data for the Silver layer.\n",
    "3. Save the transformed data as a Delta table and register it in Unity Catalog.\n",
    "\n",
    "#### Code:"
   ]
  },
  {
   "cell_type": "code",
   "execution_count": null,
   "id": "3c73bf2a",
   "metadata": {},
   "outputs": [],
   "source": [
    "# Step 1: Read Bronze data\n",
    "bronze_df = spark.read.format(\"delta\").load(\"/mnt/s3data/bronze/retail_data\")\n",
    "\n",
    "# Step 2: Transform Bronze data\n",
    "from pyspark.sql.functions import col\n",
    "silver_df = bronze_df.filter(col(\"transaction_amount\").isNotNull()) \\\n",
    "                     .withColumnRenamed(\"transaction_date\", \"date\") \\\n",
    "                     .withColumn(\"year\", col(\"date\").substr(1, 4))\n",
    "\n",
    "# Step 3: Save Silver data as a Delta table\n",
    "silver_path = \"/mnt/s3data/silver/retail_data\"\n",
    "silver_df.write.format(\"delta\").mode(\"overwrite\").save(silver_path)\n",
    "\n",
    "# Step 4: Register the Silver table in Unity Catalog\n",
    "spark.sql(f\"\"\"\n",
    "CREATE TABLE IF NOT EXISTS retail_catalog.silver.retail_data\n",
    "USING DELTA\n",
    "LOCATION '{silver_path}'\n",
    "\"\"\")"
   ]
  },
  {
   "cell_type": "markdown",
   "id": "0406013a",
   "metadata": {},
   "source": [
    "---"
   ]
  }
 ],
 "metadata": {
  "jupytext": {
   "cell_metadata_filter": "-all",
   "main_language": "python",
   "notebook_metadata_filter": "-all"
  }
 },
 "nbformat": 4,
 "nbformat_minor": 5
}
