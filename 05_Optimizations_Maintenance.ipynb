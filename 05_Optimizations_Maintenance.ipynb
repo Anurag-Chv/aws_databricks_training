{
 "cells": [
  {
   "cell_type": "markdown",
   "id": "8fada3da",
   "metadata": {
    "lines_to_next_cell": 0
   },
   "source": [
    "### **Notebook 5: Optimizations and Maintenance**\n",
    "\n",
    "#### Steps:\n",
    "1. Compact small files in Delta tables.\n",
    "2. Apply Z-ordering for faster queries.\n",
    "\n",
    "#### Code:"
   ]
  },
  {
   "cell_type": "code",
   "execution_count": null,
   "id": "f2af0f2b",
   "metadata": {},
   "outputs": [],
   "source": [
    "from delta.tables import DeltaTable\n",
    "\n",
    "# Optimize Bronze table\n",
    "bronze_table = DeltaTable.forPath(spark, \"/mnt/s3data/bronze/retail_data\")\n",
    "bronze_table.optimize().executeCompaction()\n",
    "\n",
    "# Optimize Silver table\n",
    "silver_table = DeltaTable.forPath(spark, \"/mnt/s3data/silver/retail_data\")\n",
    "silver_table.optimize().executeCompaction()\n",
    "silver_table.optimize().executeZOrderBy(\"date\")\n",
    "\n",
    "# Optimize Gold table\n",
    "gold_table = DeltaTable.forPath(spark, \"/mnt/s3data/gold/retail_data\")\n",
    "gold_table.optimize().executeCompaction()\n",
    "gold_table.optimize().executeZOrderBy(\"region\")"
   ]
  }
 ],
 "metadata": {
  "jupytext": {
   "cell_metadata_filter": "-all",
   "main_language": "python",
   "notebook_metadata_filter": "-all"
  }
 },
 "nbformat": 4,
 "nbformat_minor": 5
}
