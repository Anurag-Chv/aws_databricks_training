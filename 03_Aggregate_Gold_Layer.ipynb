{
 "cells": [
  {
   "cell_type": "markdown",
   "id": "b7eb410c",
   "metadata": {
    "lines_to_next_cell": 0
   },
   "source": [
    "### **Notebook 3: Creating the Gold Layer**\n",
    "\n",
    "#### Steps:\n",
    "1. Read Silver Delta table.\n",
    "2. Aggregate Silver data for the Gold layer.\n",
    "3. Save the aggregated data as a Delta table and register it in Unity Catalog.\n",
    "\n",
    "#### Code:"
   ]
  },
  {
   "cell_type": "code",
   "execution_count": null,
   "id": "900d8e97",
   "metadata": {},
   "outputs": [],
   "source": [
    "# Step 1: Read Silver data\n",
    "silver_df = spark.read.format(\"delta\").load(\"/mnt/s3data/silver/retail_data\")\n",
    "\n",
    "# Step 2: Aggregate data for the Gold layer\n",
    "gold_df = silver_df.groupBy(\"year\", \"region\").sum(\"transaction_amount\").alias(\"total_sales\")\n",
    "\n",
    "# Step 3: Save Gold data as a Delta table\n",
    "gold_path = \"/mnt/s3data/gold/retail_data\"\n",
    "gold_df.write.format(\"delta\").mode(\"overwrite\").save(gold_path)\n",
    "\n",
    "# Step 4: Register the Gold table in Unity Catalog\n",
    "spark.sql(f\"\"\"\n",
    "CREATE TABLE IF NOT EXISTS retail_catalog.gold.retail_data\n",
    "USING DELTA\n",
    "LOCATION '{gold_path}'\n",
    "\"\"\")"
   ]
  },
  {
   "cell_type": "markdown",
   "id": "082e88c7",
   "metadata": {},
   "source": [
    "---"
   ]
  }
 ],
 "metadata": {
  "jupytext": {
   "cell_metadata_filter": "-all",
   "main_language": "python",
   "notebook_metadata_filter": "-all"
  }
 },
 "nbformat": 4,
 "nbformat_minor": 5
}
