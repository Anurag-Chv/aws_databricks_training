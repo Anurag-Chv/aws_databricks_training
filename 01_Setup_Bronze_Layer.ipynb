{
 "cells": [
  {
   "cell_type": "markdown",
   "id": "32e96b34",
   "metadata": {
    "lines_to_next_cell": 0
   },
   "source": [
    "### **Notebook 1: Setting Up S3 Mounts and Delta Lake Bronze Layer**\n",
    "\n",
    "#### Steps:\n",
    "1. Mount the S3 bucket.\n",
    "2. Load raw data from S3 and save it as a Delta table in the Bronze layer.\n",
    "3. Register the Bronze table in Unity Catalog.\n",
    "\n",
    "#### Code:"
   ]
  },
  {
   "cell_type": "code",
   "execution_count": null,
   "id": "b6cae52d",
   "metadata": {},
   "outputs": [],
   "source": [
    "# Step 1: Mount S3 bucket\n",
    "dbutils.fs.mount(\n",
    "    source=\"s3a://your-bucket-name/retail-data/by-day/\",\n",
    "    mount_point=\"/mnt/s3data/retail-data/by-day\",\n",
    "    extra_configs={\"fs.s3a.awsAccessKeyId\": \"<YOUR_ACCESS_KEY>\",\n",
    "                   \"fs.s3a.awsSecretAccessKey\": \"<YOUR_SECRET_KEY>\"}\n",
    ")\n",
    "\n",
    "# Step 2: Verify the mount\n",
    "display(dbutils.fs.ls(\"/mnt/s3data/retail-data/by-day/\"))\n",
    "\n",
    "# Step 3: Load raw data and save as Bronze Delta table\n",
    "raw_data = spark.read.format(\"csv\").option(\"header\", \"true\").load(\"/mnt/s3data/retail-data/by-day/\")\n",
    "bronze_path = \"/mnt/s3data/bronze/retail_data\"\n",
    "raw_data.write.format(\"delta\").mode(\"overwrite\").save(bronze_path)\n",
    "\n",
    "# Step 4: Register the Bronze table in Unity Catalog\n",
    "spark.sql(f\"\"\"\n",
    "CREATE TABLE IF NOT EXISTS retail_catalog.bronze.retail_data\n",
    "USING DELTA\n",
    "LOCATION '{bronze_path}'\n",
    "\"\"\")"
   ]
  },
  {
   "cell_type": "markdown",
   "id": "6febd52e",
   "metadata": {},
   "source": [
    "---"
   ]
  }
 ],
 "metadata": {
  "jupytext": {
   "cell_metadata_filter": "-all",
   "main_language": "python",
   "notebook_metadata_filter": "-all"
  }
 },
 "nbformat": 4,
 "nbformat_minor": 5
}
